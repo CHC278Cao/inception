{
 "cells": [
  {
   "cell_type": "code",
   "execution_count": null,
   "metadata": {},
   "outputs": [],
   "source": [
    "import tensorflow as tf\n",
    "slim = tf.contrib.slim\n",
    "trunc_normal = lambda stddev: tf.truncated_normal(mean = 0.0, stddev = stddev)\n",
    "\n",
    "# setting the default parameters in whole net\n",
    "def inception_v3_arg_scope(weight_decay = 0.0004,\n",
    "                          stddev = 0.1,\n",
    "                          batch_nor_var_collection = \"moving_vars\"):\n",
    "    \"\"\"\n",
    "    args: \n",
    "        weights_decay: alpha for weights normalization in loss\n",
    "        stddev: stddev for weights initialization \n",
    "        batch_nor_var_collection: \n",
    "    \"\"\"\n",
    "    batch_norm_params = {\n",
    "        \"decay\": 0.997,\n",
    "        \"epsilon\": 0.001,\n",
    "        \"updates_collections\": tf.GraphKeys.UPDATE_OPS,\n",
    "        \"variable_collections\": {\n",
    "            \"beta\": None,\n",
    "            \"gamma\": None,\n",
    "            \"moving_mean\": [batch_norm_var_collection],\n",
    "            \"moving_variable\": [batch_norm_var_collection],\n",
    "        }\n",
    "    }\n",
    "    \n",
    "    # setting the default parameters for conv layers and fc layers\n",
    "    with slim.arg_scope([slim.conv2d, slim.fully_connected],\n",
    "                       weights_regularizer = slim.l2_regularizer(weight_decay)):\n",
    "        with slim.arg_scope([slim.conv2d], \n",
    "                           weights_initializer = trunc_normal(stddev = stddev),\n",
    "                           activation_fn = tf.nn.relu,\n",
    "                           normalizer_params = batch_norm_params) as sc:\n",
    "            return sc"
   ]
  }
 ],
 "metadata": {
  "kernelspec": {
   "display_name": "Python 3",
   "language": "python",
   "name": "python3"
  },
  "language_info": {
   "codemirror_mode": {
    "name": "ipython",
    "version": 3
   },
   "file_extension": ".py",
   "mimetype": "text/x-python",
   "name": "python",
   "nbconvert_exporter": "python",
   "pygments_lexer": "ipython3",
   "version": "3.6.6"
  }
 },
 "nbformat": 4,
 "nbformat_minor": 2
}
